{
  "nbformat": 4,
  "nbformat_minor": 0,
  "metadata": {
    "colab": {
      "provenance": []
    },
    "kernelspec": {
      "name": "python3",
      "display_name": "Python 3"
    },
    "language_info": {
      "name": "python"
    }
  },
  "cells": [
    {
      "cell_type": "code",
      "source": [
        "!pip install scikit-learn"
      ],
      "metadata": {
        "colab": {
          "base_uri": "https://localhost:8080/"
        },
        "id": "_ZJLCGs5mwAa",
        "outputId": "885b541e-94be-4b73-c867-507136874578"
      },
      "execution_count": null,
      "outputs": [
        {
          "output_type": "stream",
          "name": "stdout",
          "text": [
            "Requirement already satisfied: scikit-learn in /usr/local/lib/python3.10/dist-packages (1.6.0)\n",
            "Requirement already satisfied: numpy>=1.19.5 in /usr/local/lib/python3.10/dist-packages (from scikit-learn) (1.26.4)\n",
            "Requirement already satisfied: scipy>=1.6.0 in /usr/local/lib/python3.10/dist-packages (from scikit-learn) (1.13.1)\n",
            "Requirement already satisfied: joblib>=1.2.0 in /usr/local/lib/python3.10/dist-packages (from scikit-learn) (1.4.2)\n",
            "Requirement already satisfied: threadpoolctl>=3.1.0 in /usr/local/lib/python3.10/dist-packages (from scikit-learn) (3.5.0)\n"
          ]
        }
      ]
    },
    {
      "cell_type": "code",
      "execution_count": null,
      "metadata": {
        "id": "k2liTqp7BDPA"
      },
      "outputs": [],
      "source": [
        "import nltk\n",
        "import re\n",
        "from nltk.corpus import stopwords\n",
        "from nltk.stem.porter import PorterStemmer\n",
        "from nltk.stem import WordNetLemmatizer"
      ]
    },
    {
      "cell_type": "code",
      "source": [
        "# nltk.download('all')\n",
        "# nltk.download('punkt')"
      ],
      "metadata": {
        "id": "_zah2VcJhN2N"
      },
      "execution_count": null,
      "outputs": []
    },
    {
      "cell_type": "code",
      "source": [
        "paragraph = \"\"\"I love programming and solving problems.,\n",
        "                Programming is both fun and challenging.,\n",
        "                Solving puzzles sharpens the mind and improves focus.,\n",
        "                Focus and consistency are essential for success.,\n",
        "                Success requires hard work and dedication.,\n",
        "                Hard work and persistence lead to great achievements.,\n",
        "                Achievements in life come from learning and growing.,\n",
        "                Growing your skills through practice is rewarding.,\n",
        "                Practice makes perfect and builds confidence over time.,\n",
        "                Confidence is the key to unlocking potential and achieving goals.\"\"\""
      ],
      "metadata": {
        "id": "tAuzmXPWfRH-"
      },
      "execution_count": null,
      "outputs": []
    },
    {
      "cell_type": "markdown",
      "source": [
        "## **Text Preprocessing**"
      ],
      "metadata": {
        "id": "YGiUK3qjmDZ8"
      }
    },
    {
      "cell_type": "code",
      "source": [
        "ps=PorterStemmer()\n",
        "wordnet=WordNetLemmatizer()\n",
        "sentences=nltk.sent_tokenize(paragraph)"
      ],
      "metadata": {
        "id": "pzhJ-QLag3hG"
      },
      "execution_count": null,
      "outputs": []
    },
    {
      "cell_type": "code",
      "source": [
        "corpus=[]"
      ],
      "metadata": {
        "id": "GrWhmNN8hLn-"
      },
      "execution_count": null,
      "outputs": []
    },
    {
      "cell_type": "code",
      "source": [
        "# for i in range(len(sentences)):\n",
        "#   review = re.sub('[^a-zA-Z]',' ', sentences[i])\n",
        "#   review = review.lower()\n",
        "#   review = review.split()\n",
        "#   review = [ps.stem(word) for word in review if not word in set(stopwords.words('english'))]\n",
        "#   review = ' '.join(review)\n",
        "#   corpus.append(review)\n",
        "#   print(corpus)"
      ],
      "metadata": {
        "id": "fIezKgx7ha95"
      },
      "execution_count": null,
      "outputs": []
    },
    {
      "cell_type": "code",
      "source": [
        "for i in range(len(sentences)):\n",
        "  review = re.sub('[^a-zA-Z]',' ', sentences[i])\n",
        "  review = review.lower()\n",
        "  review = review.split()\n",
        "  review = [wordnet.lemmatize(word) for word in review if not word in set(stopwords.words('english'))]\n",
        "  review = ' '.join(review)\n",
        "  corpus.append(review)\n",
        "  print(corpus)"
      ],
      "metadata": {
        "colab": {
          "base_uri": "https://localhost:8080/"
        },
        "id": "fXYHeuNYlnbF",
        "outputId": "c1af1977-feb0-4869-9f68-55a13501ca31"
      },
      "execution_count": null,
      "outputs": [
        {
          "output_type": "stream",
          "name": "stdout",
          "text": [
            "['love programming solving problem programming fun challenging solving puzzle sharpens mind improves focus focus consistency essential success success requires hard work dedication hard work persistence lead great achievement achievement life come learning growing growing skill practice rewarding practice make perfect build confidence time confidence key unlocking potential achieving goal']\n"
          ]
        }
      ]
    },
    {
      "cell_type": "markdown",
      "source": [
        "## **Bag of Words**"
      ],
      "metadata": {
        "id": "X684C2KOmHFD"
      }
    },
    {
      "cell_type": "code",
      "source": [
        "from sklearn.feature_extraction.text import CountVectorizer\n",
        "vectorizer = CountVectorizer()\n",
        "X = vectorizer.fit_transform(corpus).toarray()\n",
        "print(X)"
      ],
      "metadata": {
        "colab": {
          "base_uri": "https://localhost:8080/"
        },
        "id": "f6g3ngAjlsoz",
        "outputId": "fa5a603a-b2de-452d-d7a7-81644ffb9423"
      },
      "execution_count": null,
      "outputs": [
        {
          "output_type": "stream",
          "name": "stdout",
          "text": [
            "[[2 1 1 1 1 2 1 1 1 2 1 1 1 2 2 1 1 1 1 1 1 1 1 1 1 1 2 1 2 1 1 1 1 1 2 2\n",
            "  1 1 2]]\n"
          ]
        }
      ]
    },
    {
      "cell_type": "markdown",
      "source": [
        "## **TF-IDF**"
      ],
      "metadata": {
        "id": "8teBwJUGoZU-"
      }
    },
    {
      "cell_type": "code",
      "source": [
        "from sklearn.feature_extraction.text import TfidfVectorizer\n",
        "tf_idf = TfidfVectorizer()\n",
        "X = tf_idf.fit_transform(corpus).toarray()\n",
        "print(X)"
      ],
      "metadata": {
        "colab": {
          "base_uri": "https://localhost:8080/"
        },
        "id": "TV37B2cFmg_7",
        "outputId": "c881826c-3317-4678-c61a-ccaeb3fb14b6"
      },
      "execution_count": null,
      "outputs": [
        {
          "output_type": "stream",
          "name": "stdout",
          "text": [
            "[[0.24077171 0.12038585 0.12038585 0.12038585 0.12038585 0.24077171\n",
            "  0.12038585 0.12038585 0.12038585 0.24077171 0.12038585 0.12038585\n",
            "  0.12038585 0.24077171 0.24077171 0.12038585 0.12038585 0.12038585\n",
            "  0.12038585 0.12038585 0.12038585 0.12038585 0.12038585 0.12038585\n",
            "  0.12038585 0.12038585 0.24077171 0.12038585 0.24077171 0.12038585\n",
            "  0.12038585 0.12038585 0.12038585 0.12038585 0.24077171 0.24077171\n",
            "  0.12038585 0.12038585 0.24077171]]\n"
          ]
        }
      ]
    },
    {
      "cell_type": "code",
      "source": [],
      "metadata": {
        "id": "h7_6U8Ghojnv"
      },
      "execution_count": null,
      "outputs": []
    }
  ]
}